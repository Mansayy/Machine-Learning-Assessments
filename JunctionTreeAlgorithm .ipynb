{
 "cells": [
  {
   "cell_type": "code",
   "execution_count": 76,
   "id": "88a3260f",
   "metadata": {},
   "outputs": [
    {
     "name": "stdout",
     "output_type": "stream",
     "text": [
      "[[[0.0437037  0.42466667]\n",
      "  [0.34962963 0.182     ]]\n",
      "\n",
      " [[0.28333333 0.11      ]\n",
      "  [0.05666667 0.55      ]]\n",
      "\n",
      " [[0.12333333 0.21666667]\n",
      "  [0.61666667 0.04333333]]\n",
      "\n",
      " [[0.54       0.2       ]\n",
      "  [0.06       0.2       ]]]\n"
     ]
    }
   ],
   "source": [
    "def JunctionTreeAlgorithm(potentials):\n",
    "    clique = potentials\n",
    "    n = len(clique)\n",
    "    #print(clique)\n",
    "    separators = np.ones((n-1,2))\n",
    "    #print(separators)\n",
    "    for i in range(n-1):\n",
    "        separators[i] = sum(clique[i])\n",
    "        s = np.multiply(separators[i].T, [[1,1],[1,1]])\n",
    "        clique[i+1] = (clique[i+1]*s)\n",
    "        \n",
    "    #print(separators)\n",
    "    #print(clique)\n",
    "        \n",
    "    for i in range(n-1):\n",
    "        separators_to_copy = separators.copy()\n",
    "        separator_old = separators_to_copy[n-i-2,:]\n",
    "        separators[n-i-2,:] = np.sum(clique[n-i-1], axis = 1).T\n",
    "        b = np.array([[1,1],[1,1]])\n",
    "        c = np.divide(separators[n-i-2],separator_old)\n",
    "        prod = np.multiply(b,c)\n",
    "        clique[n-i-2] = (clique[n-i-2]*prod)\n",
    "  \n",
    "    m = np.zeros((4,2))\n",
    "    for i in range(n):\n",
    "        clique[i] = np.divide(clique[i],sum(sum(clique[i]).T))\n",
    "        #print(clique)\n",
    "    return clique\n",
    "\n",
    "psis = np.zeros((4,2,2))\n",
    "psis[0] = [[0.1,0.7],[0.8,0.3]]\n",
    "psis[1] = [[0.5,0.1],[0.1,0.5]]\n",
    "psis[2] = [[0.1,0.5],[0.5,0.1]]\n",
    "psis[3] = [[0.9,0.3],[0.1,0.3]]\n",
    "clique = JunctionTreeAlgorithm(psis)\n",
    "print(clique)"
   ]
  },
  {
   "cell_type": "code",
   "execution_count": null,
   "id": "548783da",
   "metadata": {},
   "outputs": [],
   "source": []
  },
  {
   "cell_type": "code",
   "execution_count": null,
   "id": "13745a52",
   "metadata": {},
   "outputs": [],
   "source": []
  },
  {
   "cell_type": "code",
   "execution_count": null,
   "id": "44a9584c",
   "metadata": {},
   "outputs": [],
   "source": []
  }
 ],
 "metadata": {
  "kernelspec": {
   "display_name": "Python 3 (ipykernel)",
   "language": "python",
   "name": "python3"
  },
  "language_info": {
   "codemirror_mode": {
    "name": "ipython",
    "version": 3
   },
   "file_extension": ".py",
   "mimetype": "text/x-python",
   "name": "python",
   "nbconvert_exporter": "python",
   "pygments_lexer": "ipython3",
   "version": "3.9.12"
  }
 },
 "nbformat": 4,
 "nbformat_minor": 5
}
