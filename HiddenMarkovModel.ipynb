{
 "cells": [
  {
   "cell_type": "code",
   "execution_count": 3,
   "id": "6baa4867",
   "metadata": {},
   "outputs": [
    {
     "name": "stdout",
     "output_type": "stream",
     "text": [
      "Happy\n",
      "Angry\n",
      "Angry\n",
      "Angry\n",
      "Angry\n"
     ]
    }
   ],
   "source": [
    "import numpy as np\n",
    "\n",
    "obs = np.array([1,4,2,2,3])\n",
    "iState = np.array([1,0])\n",
    "emProb = np.array([[0.4,0.1,0.3,0.2],[0.1,0.4,0.2,0.3]])\n",
    "tnProb = np.array([[0.8,0.2], [0.2,0.8]])\n",
    "\n",
    "\n",
    "def JTAArgMax(tnProb, emProb, obs, iState):\n",
    "    tP = len(tnProb)\n",
    "    #print(tP)\n",
    "    eP=len(obs)\n",
    "    #print(eP)\n",
    "    var1=np.zeros((eP,tP,tP))\n",
    "    var2=np.ones((tP,eP))\n",
    "    \n",
    "    for i in range(1,eP):\n",
    "        k=obs[i]\n",
    "        prod = np.matmul(tnProb,np.diag(emProb[:,k-1]))\n",
    "        #print(prod)\n",
    "        var1[i,:,:]=np.matmul(np.diag(var2[:,i-1]),prod)\n",
    "        var2[:,i]=np.amax(var1[i,:,:], axis = 0)\n",
    "\n",
    "    for i in range(eP-2,0,-1):\n",
    "        var2_new=np.amax(var1[i,:,:], axis = 0)\n",
    "        q = np.diag(np.divide(var2_new,var2[:,i]))\n",
    "        #print(q)\n",
    "        var1[i,:,:]=np.matmul(var1[i,:,:],q)\n",
    "        var2[:,i]=var2_new\n",
    "    \n",
    "    \n",
    "    finalState = np.zeros(5)\n",
    "    for i in range(5):\n",
    "        finalState[i] = np.argmax(var2[:,i])\n",
    "        #print(finalState[i])\n",
    "    \n",
    "    for i in range(5):\n",
    "        print(\"Happy\") if finalState[i] == 0 else print(\"Angry\")\n",
    "        \n",
    "JTAArgMax(tnProb, emProb, obs, iState)"
   ]
  }
 ],
 "metadata": {
  "kernelspec": {
   "display_name": "Python 3 (ipykernel)",
   "language": "python",
   "name": "python3"
  },
  "language_info": {
   "codemirror_mode": {
    "name": "ipython",
    "version": 3
   },
   "file_extension": ".py",
   "mimetype": "text/x-python",
   "name": "python",
   "nbconvert_exporter": "python",
   "pygments_lexer": "ipython3",
   "version": "3.9.12"
  }
 },
 "nbformat": 4,
 "nbformat_minor": 5
}
